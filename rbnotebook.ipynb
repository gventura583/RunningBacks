{
 "cells": [
  {
   "cell_type": "markdown",
   "id": "e136dd0a",
   "metadata": {
    "tags": []
   },
   "source": [
    "### Exploring Running Back Data (2015 - 2021) ###\n",
    "#### Webscraping the Data ####\n",
    "* [Football Reference](https://www.pro-football-reference.com/) - Main Website \n",
    "* [Rushing](https://www.pro-football-reference.com/years/2021/rushing.htm) - Wanted Data"
   ]
  },
  {
   "cell_type": "markdown",
   "id": "0a87e13e-352e-43c4-bcdd-a69ae53e312e",
   "metadata": {},
   "source": [
    "Installs the requests library for scraping data"
   ]
  },
  {
   "cell_type": "code",
   "execution_count": 1,
   "id": "f3b011b6",
   "metadata": {},
   "outputs": [
    {
     "name": "stdout",
     "output_type": "stream",
     "text": [
      "Requirement already satisfied: requests in /Users/gventura/opt/anaconda3/lib/python3.9/site-packages (2.26.0)\n",
      "Requirement already satisfied: urllib3<1.27,>=1.21.1 in /Users/gventura/opt/anaconda3/lib/python3.9/site-packages (from requests) (1.26.7)\n",
      "Requirement already satisfied: charset-normalizer~=2.0.0 in /Users/gventura/opt/anaconda3/lib/python3.9/site-packages (from requests) (2.0.4)\n",
      "Requirement already satisfied: certifi>=2017.4.17 in /Users/gventura/opt/anaconda3/lib/python3.9/site-packages (from requests) (2021.10.8)\n",
      "Requirement already satisfied: idna<4,>=2.5 in /Users/gventura/opt/anaconda3/lib/python3.9/site-packages (from requests) (3.2)\n"
     ]
    }
   ],
   "source": [
    "!pip install requests"
   ]
  },
  {
   "cell_type": "code",
   "execution_count": 2,
   "id": "109bf42a",
   "metadata": {},
   "outputs": [],
   "source": [
    "years = list(range(2015, 2022))"
   ]
  },
  {
   "cell_type": "code",
   "execution_count": 3,
   "id": "018e21c2",
   "metadata": {},
   "outputs": [],
   "source": [
    "url_start = \"https://www.pro-football-reference.com/years/{}/rushing.htm\""
   ]
  },
  {
   "cell_type": "code",
   "execution_count": 4,
   "id": "f42e556f",
   "metadata": {},
   "outputs": [],
   "source": [
    "import requests\n",
    "\n",
    "for year in years:\n",
    "    url = url_start.format(year)\n",
    "    data = requests.get(url)\n",
    "\n",
    "    with open(\"RB/{}.html\".format(year), \"w+\", encoding=\"utf8\") as f:\n",
    "        f.write(data.text)"
   ]
  },
  {
   "cell_type": "markdown",
   "id": "aacf47c5-abaf-4073-88d0-20a9cde1ce56",
   "metadata": {},
   "source": [
    "- Created a folder called RB\n",
    "- For loop goes through the list of years in range\n",
    "- Saves each year as a file in the RB folder"
   ]
  },
  {
   "cell_type": "markdown",
   "id": "2bee2114-bb39-4814-9797-9e1e3cc84e89",
   "metadata": {},
   "source": [
    "Installs beautiful soup for data parsing"
   ]
  },
  {
   "cell_type": "code",
   "execution_count": 5,
   "id": "3e5c7950-8c4b-4379-9beb-06ee0777cdf7",
   "metadata": {},
   "outputs": [
    {
     "name": "stdout",
     "output_type": "stream",
     "text": [
      "Requirement already satisfied: beautifulsoup4 in /Users/gventura/opt/anaconda3/lib/python3.9/site-packages (4.10.0)\n",
      "Requirement already satisfied: soupsieve>1.2 in /Users/gventura/opt/anaconda3/lib/python3.9/site-packages (from beautifulsoup4) (2.2.1)\n"
     ]
    }
   ],
   "source": [
    "!pip install beautifulsoup4"
   ]
  },
  {
   "cell_type": "markdown",
   "id": "adc97b7c-9cd3-43aa-afec-7783750f3ec3",
   "metadata": {},
   "source": [
    "Installs pandas for exploring data"
   ]
  },
  {
   "cell_type": "code",
   "execution_count": 6,
   "id": "568d2c32-2454-478f-8d99-adca60160b51",
   "metadata": {},
   "outputs": [
    {
     "name": "stdout",
     "output_type": "stream",
     "text": [
      "Requirement already satisfied: pandas in /Users/gventura/opt/anaconda3/lib/python3.9/site-packages (1.3.4)\n",
      "Requirement already satisfied: python-dateutil>=2.7.3 in /Users/gventura/opt/anaconda3/lib/python3.9/site-packages (from pandas) (2.8.2)\n",
      "Requirement already satisfied: pytz>=2017.3 in /Users/gventura/opt/anaconda3/lib/python3.9/site-packages (from pandas) (2021.3)\n",
      "Requirement already satisfied: numpy>=1.17.3 in /Users/gventura/opt/anaconda3/lib/python3.9/site-packages (from pandas) (1.20.3)\n",
      "Requirement already satisfied: six>=1.5 in /Users/gventura/opt/anaconda3/lib/python3.9/site-packages (from python-dateutil>=2.7.3->pandas) (1.16.0)\n"
     ]
    }
   ],
   "source": [
    "!pip install pandas"
   ]
  },
  {
   "cell_type": "code",
   "execution_count": 7,
   "id": "0f3ac8e2-f2ad-4547-89e2-5a769ba293fc",
   "metadata": {},
   "outputs": [
    {
     "data": {
      "text/html": [
       "<div>\n",
       "<style scoped>\n",
       "    .dataframe tbody tr th:only-of-type {\n",
       "        vertical-align: middle;\n",
       "    }\n",
       "\n",
       "    .dataframe tbody tr th {\n",
       "        vertical-align: top;\n",
       "    }\n",
       "\n",
       "    .dataframe thead th {\n",
       "        text-align: right;\n",
       "    }\n",
       "</style>\n",
       "<table border=\"1\" class=\"dataframe\">\n",
       "  <thead>\n",
       "    <tr style=\"text-align: right;\">\n",
       "      <th></th>\n",
       "      <th>Rk</th>\n",
       "      <th>Player</th>\n",
       "      <th>Tm</th>\n",
       "      <th>Age</th>\n",
       "      <th>Pos</th>\n",
       "      <th>G</th>\n",
       "      <th>GS</th>\n",
       "      <th>Att</th>\n",
       "      <th>Yds</th>\n",
       "      <th>TD</th>\n",
       "      <th>1D</th>\n",
       "      <th>Lng</th>\n",
       "      <th>Y/A</th>\n",
       "      <th>Y/G</th>\n",
       "      <th>Fmb</th>\n",
       "    </tr>\n",
       "  </thead>\n",
       "  <tbody>\n",
       "    <tr>\n",
       "      <th>0</th>\n",
       "      <td>1</td>\n",
       "      <td>Adrian Peterson*+</td>\n",
       "      <td>MIN</td>\n",
       "      <td>30</td>\n",
       "      <td>RB</td>\n",
       "      <td>16</td>\n",
       "      <td>16</td>\n",
       "      <td>327</td>\n",
       "      <td>1485</td>\n",
       "      <td>11</td>\n",
       "      <td>72</td>\n",
       "      <td>80</td>\n",
       "      <td>4.5</td>\n",
       "      <td>92.8</td>\n",
       "      <td>7</td>\n",
       "    </tr>\n",
       "    <tr>\n",
       "      <th>1</th>\n",
       "      <td>2</td>\n",
       "      <td>Doug Martin*+</td>\n",
       "      <td>TAM</td>\n",
       "      <td>26</td>\n",
       "      <td>RB</td>\n",
       "      <td>16</td>\n",
       "      <td>16</td>\n",
       "      <td>288</td>\n",
       "      <td>1402</td>\n",
       "      <td>6</td>\n",
       "      <td>68</td>\n",
       "      <td>84</td>\n",
       "      <td>4.9</td>\n",
       "      <td>87.6</td>\n",
       "      <td>5</td>\n",
       "    </tr>\n",
       "    <tr>\n",
       "      <th>2</th>\n",
       "      <td>3</td>\n",
       "      <td>Latavius Murray*</td>\n",
       "      <td>OAK</td>\n",
       "      <td>25</td>\n",
       "      <td>RB</td>\n",
       "      <td>16</td>\n",
       "      <td>16</td>\n",
       "      <td>266</td>\n",
       "      <td>1066</td>\n",
       "      <td>6</td>\n",
       "      <td>49</td>\n",
       "      <td>54</td>\n",
       "      <td>4.0</td>\n",
       "      <td>66.6</td>\n",
       "      <td>4</td>\n",
       "    </tr>\n",
       "    <tr>\n",
       "      <th>3</th>\n",
       "      <td>4</td>\n",
       "      <td>Devonta Freeman*</td>\n",
       "      <td>ATL</td>\n",
       "      <td>23</td>\n",
       "      <td>RB</td>\n",
       "      <td>15</td>\n",
       "      <td>13</td>\n",
       "      <td>265</td>\n",
       "      <td>1056</td>\n",
       "      <td>11</td>\n",
       "      <td>71</td>\n",
       "      <td>39</td>\n",
       "      <td>4.0</td>\n",
       "      <td>70.4</td>\n",
       "      <td>3</td>\n",
       "    </tr>\n",
       "    <tr>\n",
       "      <th>4</th>\n",
       "      <td>5</td>\n",
       "      <td>Frank Gore</td>\n",
       "      <td>IND</td>\n",
       "      <td>32</td>\n",
       "      <td>RB</td>\n",
       "      <td>16</td>\n",
       "      <td>16</td>\n",
       "      <td>260</td>\n",
       "      <td>967</td>\n",
       "      <td>6</td>\n",
       "      <td>48</td>\n",
       "      <td>37</td>\n",
       "      <td>3.7</td>\n",
       "      <td>60.4</td>\n",
       "      <td>4</td>\n",
       "    </tr>\n",
       "    <tr>\n",
       "      <th>...</th>\n",
       "      <td>...</td>\n",
       "      <td>...</td>\n",
       "      <td>...</td>\n",
       "      <td>...</td>\n",
       "      <td>...</td>\n",
       "      <td>...</td>\n",
       "      <td>...</td>\n",
       "      <td>...</td>\n",
       "      <td>...</td>\n",
       "      <td>...</td>\n",
       "      <td>...</td>\n",
       "      <td>...</td>\n",
       "      <td>...</td>\n",
       "      <td>...</td>\n",
       "      <td>...</td>\n",
       "    </tr>\n",
       "    <tr>\n",
       "      <th>317</th>\n",
       "      <td>308</td>\n",
       "      <td>Kasen Williams</td>\n",
       "      <td>SEA</td>\n",
       "      <td>23</td>\n",
       "      <td>NaN</td>\n",
       "      <td>2</td>\n",
       "      <td>0</td>\n",
       "      <td>1</td>\n",
       "      <td>5</td>\n",
       "      <td>0</td>\n",
       "      <td>0</td>\n",
       "      <td>5</td>\n",
       "      <td>5.0</td>\n",
       "      <td>2.5</td>\n",
       "      <td>0</td>\n",
       "    </tr>\n",
       "    <tr>\n",
       "      <th>318</th>\n",
       "      <td>309</td>\n",
       "      <td>Glenn Winston</td>\n",
       "      <td>CLE</td>\n",
       "      <td>26</td>\n",
       "      <td>NaN</td>\n",
       "      <td>3</td>\n",
       "      <td>0</td>\n",
       "      <td>1</td>\n",
       "      <td>-8</td>\n",
       "      <td>0</td>\n",
       "      <td>0</td>\n",
       "      <td>-8</td>\n",
       "      <td>-8.0</td>\n",
       "      <td>-2.7</td>\n",
       "      <td>1</td>\n",
       "    </tr>\n",
       "    <tr>\n",
       "      <th>319</th>\n",
       "      <td>310</td>\n",
       "      <td>Robert Woods</td>\n",
       "      <td>BUF</td>\n",
       "      <td>23</td>\n",
       "      <td>WR</td>\n",
       "      <td>14</td>\n",
       "      <td>9</td>\n",
       "      <td>1</td>\n",
       "      <td>0</td>\n",
       "      <td>0</td>\n",
       "      <td>0</td>\n",
       "      <td>0</td>\n",
       "      <td>0.0</td>\n",
       "      <td>0.0</td>\n",
       "      <td>2</td>\n",
       "    </tr>\n",
       "    <tr>\n",
       "      <th>320</th>\n",
       "      <td>311</td>\n",
       "      <td>Charles Woodson*</td>\n",
       "      <td>OAK</td>\n",
       "      <td>39</td>\n",
       "      <td>SS</td>\n",
       "      <td>16</td>\n",
       "      <td>16</td>\n",
       "      <td>1</td>\n",
       "      <td>-3</td>\n",
       "      <td>0</td>\n",
       "      <td>0</td>\n",
       "      <td>-3</td>\n",
       "      <td>-3.0</td>\n",
       "      <td>-0.2</td>\n",
       "      <td>1</td>\n",
       "    </tr>\n",
       "    <tr>\n",
       "      <th>321</th>\n",
       "      <td>312</td>\n",
       "      <td>Jarius Wright</td>\n",
       "      <td>MIN</td>\n",
       "      <td>26</td>\n",
       "      <td>NaN</td>\n",
       "      <td>16</td>\n",
       "      <td>3</td>\n",
       "      <td>1</td>\n",
       "      <td>29</td>\n",
       "      <td>0</td>\n",
       "      <td>1</td>\n",
       "      <td>29</td>\n",
       "      <td>29.0</td>\n",
       "      <td>1.8</td>\n",
       "      <td>1</td>\n",
       "    </tr>\n",
       "  </tbody>\n",
       "</table>\n",
       "<p>322 rows × 15 columns</p>\n",
       "</div>"
      ],
      "text/plain": [
       "      Rk             Player   Tm Age  Pos   G  GS  Att   Yds  TD  1D Lng  \\\n",
       "0      1  Adrian Peterson*+  MIN  30   RB  16  16  327  1485  11  72  80   \n",
       "1      2      Doug Martin*+  TAM  26   RB  16  16  288  1402   6  68  84   \n",
       "2      3   Latavius Murray*  OAK  25   RB  16  16  266  1066   6  49  54   \n",
       "3      4   Devonta Freeman*  ATL  23   RB  15  13  265  1056  11  71  39   \n",
       "4      5         Frank Gore  IND  32   RB  16  16  260   967   6  48  37   \n",
       "..   ...                ...  ...  ..  ...  ..  ..  ...   ...  ..  ..  ..   \n",
       "317  308     Kasen Williams  SEA  23  NaN   2   0    1     5   0   0   5   \n",
       "318  309      Glenn Winston  CLE  26  NaN   3   0    1    -8   0   0  -8   \n",
       "319  310       Robert Woods  BUF  23   WR  14   9    1     0   0   0   0   \n",
       "320  311   Charles Woodson*  OAK  39   SS  16  16    1    -3   0   0  -3   \n",
       "321  312      Jarius Wright  MIN  26  NaN  16   3    1    29   0   1  29   \n",
       "\n",
       "      Y/A   Y/G Fmb  \n",
       "0     4.5  92.8   7  \n",
       "1     4.9  87.6   5  \n",
       "2     4.0  66.6   4  \n",
       "3     4.0  70.4   3  \n",
       "4     3.7  60.4   4  \n",
       "..    ...   ...  ..  \n",
       "317   5.0   2.5   0  \n",
       "318  -8.0  -2.7   1  \n",
       "319   0.0   0.0   2  \n",
       "320  -3.0  -0.2   1  \n",
       "321  29.0   1.8   1  \n",
       "\n",
       "[322 rows x 15 columns]"
      ]
     },
     "execution_count": 7,
     "metadata": {},
     "output_type": "execute_result"
    }
   ],
   "source": [
    "from bs4 import BeautifulSoup\n",
    "import pandas as pd\n",
    "\n",
    "with open(\"RB/2015.html\") as f:\n",
    "    page = f.read()\n",
    "\n",
    "soup = BeautifulSoup(page, \"html.parser\")\n",
    "soup.find('tr', class_='over_header').decompose()\n",
    "rb_table = soup.find(id=\"rushing\")\n",
    "rb_2015 = pd.read_html(str(rb_table))[0]\n",
    "rb_2015\n"
   ]
  },
  {
   "cell_type": "code",
   "execution_count": 8,
   "id": "0563c37b-29d5-4005-889e-42a540d2aafe",
   "metadata": {},
   "outputs": [],
   "source": [
    "dfs = []\n",
    "for year in years:\n",
    "    with open(\"RB/{}.html\".format(year)) as f:\n",
    "        page = f.read()\n",
    "    soup = BeautifulSoup(page, \"html.parser\")\n",
    "    soup.find('tr', class_='over_header').decompose()\n",
    "    soup.find('tr', class_='thead').decompose()\n",
    "    rb_table = soup.find(id=\"rushing\")\n",
    "    rb = pd.read_html(str(rb_table))[0]\n",
    "    rb[\"Year\"] = year\n",
    "    \n",
    "    dfs.append(rb)"
   ]
  },
  {
   "cell_type": "code",
   "execution_count": 9,
   "id": "8c86d25e-5343-4d83-a149-cb5e173f499f",
   "metadata": {},
   "outputs": [],
   "source": [
    "rbs = pd.concat(dfs)"
   ]
  },
  {
   "cell_type": "markdown",
   "id": "b8a773b2-2c1e-40ed-9933-dcc13cc70694",
   "metadata": {},
   "source": [
    "Removed a division artifact from webscraping"
   ]
  },
  {
   "cell_type": "code",
   "execution_count": 10,
   "id": "cb43cd57-a2f7-43ef-89b5-387afd1f0b38",
   "metadata": {},
   "outputs": [],
   "source": [
    "rbs = rbs[~rbs['Player'].str.contains('Player')]"
   ]
  },
  {
   "cell_type": "markdown",
   "id": "b3317ceb-17dc-4404-9332-3b00f0a24963",
   "metadata": {},
   "source": [
    "Exporting to CSV for further cleaning and analysis"
   ]
  },
  {
   "cell_type": "code",
   "execution_count": 11,
   "id": "95c8b04c-5905-4a1f-8314-487aaa2fe2ae",
   "metadata": {},
   "outputs": [],
   "source": [
    "rbs.to_csv(\"rbs.csv\")"
   ]
  }
 ],
 "metadata": {
  "kernelspec": {
   "display_name": "Python 3 (ipykernel)",
   "language": "python",
   "name": "python3"
  },
  "language_info": {
   "codemirror_mode": {
    "name": "ipython",
    "version": 3
   },
   "file_extension": ".py",
   "mimetype": "text/x-python",
   "name": "python",
   "nbconvert_exporter": "python",
   "pygments_lexer": "ipython3",
   "version": "3.9.7"
  }
 },
 "nbformat": 4,
 "nbformat_minor": 5
}
